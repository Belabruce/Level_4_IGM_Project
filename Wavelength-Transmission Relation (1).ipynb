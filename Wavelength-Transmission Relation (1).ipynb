{
 "cells": [
  {
   "cell_type": "code",
   "execution_count": 38,
   "metadata": {
    "scrolled": true
   },
   "outputs": [],
   "source": [
    "from __future__ import division\n",
    "import numpy\n",
    "import matplotlib.pyplot as pyplot\n",
    "import scipy\n",
    "import scipy.constants as const\n",
    "from scipy import integrate"
   ]
  },
  {
   "cell_type": "code",
   "execution_count": 47,
   "metadata": {},
   "outputs": [],
   "source": [
    "#constants\n",
    "m_h1 = const.m_p + const.m_e #mass of neutral hydrogen atom (kg)\n",
    "sigma_0 = 6.3e-18            #cross sectional area of neutral hydrogen atom (m^2)\n",
    "\n",
    "#variables\n",
    "lambda_0 = 1216e-10          #wavelength of interest (Lyman-Alpha in this instance) (m)\n",
    "temp = 10e+3                 #temperature (K)\n",
    "n_dens = 1e-3                #number density of hydrogen atoms (m^3)\n",
    "l_path = 1e+21               #path length (m)\n",
    "n_sigma = 4                  #wavelength range plotted (dimensionless)"
   ]
  },
  {
   "cell_type": "code",
   "execution_count": 48,
   "metadata": {},
   "outputs": [],
   "source": [
    "def delta_lambda(lambda_0, temp):\n",
    "    return (lambda_0/const.c)*((2*const.k*temp)/m_h1)**0.5"
   ]
  },
  {
   "cell_type": "code",
   "execution_count": 49,
   "metadata": {},
   "outputs": [],
   "source": [
    "def phi_lambda(wavelength, lambda_0, delta_lambda):\n",
    "    return numpy.e**((-(wavelength-lambda_0)**2)/delta_lambda**2)"
   ]
  },
  {
   "cell_type": "code",
   "execution_count": 50,
   "metadata": {},
   "outputs": [],
   "source": [
    "del_l = delta_lambda(lambda_0, temp)\n",
    "range_low = lambda_0 - (n_sigma*del_l)\n",
    "range_high = lambda_0 + (n_sigma*del_l)"
   ]
  },
  {
   "cell_type": "code",
   "execution_count": 51,
   "metadata": {},
   "outputs": [],
   "source": [
    "lambdas = numpy.linspace(range_low, range_high,1000)\n",
    "lambdas = numpy.array(lambdas)"
   ]
  },
  {
   "cell_type": "code",
   "execution_count": 55,
   "metadata": {},
   "outputs": [],
   "source": [
    "phis = []\n",
    "for i in range(len(lambdas)):\n",
    "    phis.append(phi_lambda(lambdas[i], lambda_0, del_l))\n",
    "phis = numpy.array(phis)"
   ]
  },
  {
   "cell_type": "code",
   "execution_count": 53,
   "metadata": {},
   "outputs": [],
   "source": [
    "sig = phis * sigma_0\n",
    "tau = sig * n_dens * l_path\n",
    "trans = numpy.e**(-tau)\n",
    "velocity = const.c*((lambdas/lambda_0)-1)/1000"
   ]
  },
  {
   "cell_type": "code",
   "execution_count": 56,
   "metadata": {},
   "outputs": [
    {
     "data": {
      "image/png": "[encoded data removed]",
      "text/plain": [
       "<Figure size 432x288 with 1 Axes>"
      ]
     },
     "metadata": {
      "needs_background": "light"
     },
     "output_type": "display_data"
    }
   ],
   "source": [
    "pyplot.figure()\n",
    "pyplot.plot(velocity, trans)\n",
    "pyplot.show()"
   ]
  },
  {
   "cell_type": "code",
   "execution_count": null,
   "metadata": {},
   "outputs": [],
   "source": []
  }
 ],
 "metadata": {
  "kernelspec": {
   "display_name": "Python 3",
   "language": "python",
   "name": "python3"
  },
  "language_info": {
   "codemirror_mode": {
    "name": "ipython",
    "version": 3
   },
   "file_extension": ".py",
   "mimetype": "text/x-python",
   "name": "python",
   "nbconvert_exporter": "python",
   "pygments_lexer": "ipython3",
   "version": "3.7.0"
  }
 },
 "nbformat": 4,
 "nbformat_minor": 2
}
